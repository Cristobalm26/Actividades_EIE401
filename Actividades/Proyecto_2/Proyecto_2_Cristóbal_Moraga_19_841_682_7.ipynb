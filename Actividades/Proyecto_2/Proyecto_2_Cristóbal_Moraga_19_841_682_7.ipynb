{
  "cells": [
    {
      "cell_type": "markdown",
      "metadata": {
        "id": "view-in-github",
        "colab_type": "text"
      },
      "source": [
        "<a href=\"https://colab.research.google.com/github/Cristobalm26/Actividades_EIE401/blob/main/Actividades/Proyecto_2/Proyecto_2_Crist%C3%B3bal_Moraga_19_841_682_7.ipynb\" target=\"_parent\"><img src=\"https://colab.research.google.com/assets/colab-badge.svg\" alt=\"Open In Colab\"/></a>"
      ]
    },
    {
      "cell_type": "markdown",
      "id": "0a22500b-75f6-4e9e-bff8-e2166e04bd6a",
      "metadata": {
        "id": "0a22500b-75f6-4e9e-bff8-e2166e04bd6a"
      },
      "source": [
        "<h1><center>\n",
        "\n",
        "</center></h1>\n",
        "<font size=\"6\"><center>\n",
        "EIE 401\n",
        "PROCESAMIENTO DIGITAL MULTIMEDIA\n",
        "</center></font>"
      ]
    },
    {
      "cell_type": "markdown",
      "id": "4bb821ab-49e9-40ef-8ecd-d491bba9452c",
      "metadata": {
        "id": "4bb821ab-49e9-40ef-8ecd-d491bba9452c"
      },
      "source": [
        "\n",
        "<center><h2>Proyecto 2</h2></center>\n",
        "<center><h3>Procesamiento digital de señales</h3></center>\n",
        "<center><h3>Profesor: Jorge Cardenas</h3></center>\n",
        "\n",
        "<center><h3>Por: Cristóbal Antonio Moraga Acosta</h3></center>\n",
        "<center><h5>Pontificia Universidad Catolica de Valparaiso</h5></center>\n"
      ]
    },
    {
      "cell_type": "markdown",
      "id": "c63b11e7",
      "metadata": {
        "id": "c63b11e7"
      },
      "source": [
        "En la dirección https://huggingface.co/datasets/astroboy1/metasurfaces_V1_30-90GHZ encontrarás el archivo batch_june2024.zip que contiene las imagenes que usarás para el procesamiento. ATENCION: usa el archivo zip indicado pues tienes las imagenes preparadas para tu trabajo."
      ]
    },
    {
      "cell_type": "markdown",
      "id": "f0889ee3-d16b-49e3-be4b-a4c94f28701d",
      "metadata": {
        "id": "f0889ee3-d16b-49e3-be4b-a4c94f28701d"
      },
      "source": [
        "## 1. Carga de Datos\n"
      ]
    },
    {
      "cell_type": "markdown",
      "id": "567bb56f",
      "metadata": {
        "id": "567bb56f"
      },
      "source": [
        "- En los archivos, encontrarás un folder con imagenes de 3 categorías: cross, box, circle.\n",
        "Cada imagen tiene una medida de 512x512 pixeles y 3 canales. Se han acentuado los azules y rojos para facilitar el proceso de obtención de características.\n",
        "\n",
        "- Puedes extraer la clase a la que pertenece la imagen, desde el nombre del archivo. Ahí mismo encuentras números de serie que te permiten identificar de forma específica una imagen.\n",
        "\n",
        "- Se te entrega 3 imagenes de referencia de 32x32 pixeles, las que debes usar como plantilla para el proceso de clasificación de la imagen.\n"
      ]
    },
    {
      "cell_type": "code",
      "execution_count": 5,
      "id": "d0ab6ee5-d7a3-4cf7-9aee-1d1a76b5525f",
      "metadata": {
        "tags": [],
        "id": "d0ab6ee5-d7a3-4cf7-9aee-1d1a76b5525f",
        "colab": {
          "base_uri": "https://localhost:8080/"
        },
        "outputId": "f7284aea-4d4f-4596-8642-a179af5eec06"
      },
      "outputs": [
        {
          "output_type": "stream",
          "name": "stdout",
          "text": [
            "Mounted at /content/drive\n"
          ]
        }
      ],
      "source": [
        "from google.colab import drive\n",
        "drive.mount('/content/drive')"
      ]
    },
    {
      "cell_type": "code",
      "source": [
        "from timeit import default_timer as timer\n",
        "import numpy as np\n",
        "import matplotlib.pyplot as plt\n",
        "import cv2\n",
        "import os\n",
        "import zipfile\n",
        "import torch\n",
        "import torch.nn.functional as F\n",
        "from torchvision import transforms\n",
        "from sklearn.metrics import confusion_matrix, accuracy_score\n",
        "from PIL import Image\n",
        "from skimage.metrics import structural_similarity as ssim"
      ],
      "metadata": {
        "id": "wnwWogDC3abE"
      },
      "id": "wnwWogDC3abE",
      "execution_count": 6,
      "outputs": []
    },
    {
      "cell_type": "code",
      "source": [
        "# ruta de los templates\n",
        "ruta_imagen_box = '/content/drive/MyDrive/Colab Notebooks/box_templae.png'\n",
        "ruta_imagen_circ = '/content/drive/MyDrive/Colab Notebooks/circ_templae.png'\n",
        "ruta_imagen_cross = '/content/drive/MyDrive/Colab Notebooks/cross_templae.png'"
      ],
      "metadata": {
        "id": "XujnIE2V4t1_"
      },
      "id": "XujnIE2V4t1_",
      "execution_count": 7,
      "outputs": []
    },
    {
      "cell_type": "code",
      "source": [
        "# Templates\n",
        "template_box = cv2.imread(ruta_imagen_box)\n",
        "template_circ = cv2.imread(ruta_imagen_circ)\n",
        "template_cross = cv2.imread(ruta_imagen_cross)"
      ],
      "metadata": {
        "id": "rVMzMA6u5OGQ"
      },
      "id": "rVMzMA6u5OGQ",
      "execution_count": 8,
      "outputs": []
    },
    {
      "cell_type": "code",
      "source": [
        "# Imagenes en color\n",
        "template_box1 = cv2.cvtColor(template_box, cv2.COLOR_BGR2RGB)\n",
        "template_circ1 = cv2.cvtColor(template_circ, cv2.COLOR_BGR2RGB)\n",
        "template_cross1 = cv2.cvtColor(template_cross, cv2.COLOR_BGR2RGB)\n",
        "\n",
        "# Imagenes en escala de grises\n",
        "template_box_gris = cv2.cvtColor(template_box1, cv2.COLOR_BGR2GRAY)\n",
        "template_circ_gris = cv2.cvtColor(template_circ1, cv2.COLOR_BGR2GRAY)\n",
        "template_cross_gris = cv2.cvtColor(template_cross1, cv2.COLOR_BGR2GRAY)"
      ],
      "metadata": {
        "id": "DSUo5DKTed_G"
      },
      "id": "DSUo5DKTed_G",
      "execution_count": 9,
      "outputs": []
    },
    {
      "cell_type": "code",
      "source": [
        "# dimensiones de los templates\n",
        "w, h = template_box_gris.shape[::-1]\n",
        "t, u = template_circ_gris.shape[::-1]\n",
        "v, z = template_cross_gris.shape[::-1]\n",
        "print(w)\n",
        "print(h)\n",
        "print(t)\n",
        "print(u)\n",
        "print(v)\n",
        "print(z)"
      ],
      "metadata": {
        "colab": {
          "base_uri": "https://localhost:8080/"
        },
        "id": "UOWZoysagEje",
        "outputId": "2e8cfe75-8a99-467c-fbaa-c112d3aab01c"
      },
      "id": "UOWZoysagEje",
      "execution_count": 10,
      "outputs": [
        {
          "output_type": "stream",
          "name": "stdout",
          "text": [
            "16\n",
            "16\n",
            "16\n",
            "16\n",
            "16\n",
            "16\n"
          ]
        }
      ]
    },
    {
      "cell_type": "code",
      "source": [
        "# Ruta al archivo ZIP en Google Drive\n",
        "zip_path = '/content/drive/MyDrive/Colab Notebooks/imagenes.zip'\n",
        "\n",
        "# Directorio para extraer los archivos\n",
        "output_dir = '/content/Imagenes_ZIP4'\n",
        "os.makedirs(output_dir, exist_ok=True)\n",
        "\n",
        "# Extraer el archivo ZIP\n",
        "with zipfile.ZipFile(zip_path, 'r') as zip_ref:\n",
        "    zip_ref.extractall(output_dir)\n",
        "\n",
        "print(\"Extracción completada.\")\n"
      ],
      "metadata": {
        "colab": {
          "base_uri": "https://localhost:8080/"
        },
        "id": "Zv0LaDHJD70f",
        "outputId": "330a14ce-78d3-485f-f0dc-d38aed000edf"
      },
      "id": "Zv0LaDHJD70f",
      "execution_count": 12,
      "outputs": [
        {
          "output_type": "stream",
          "name": "stdout",
          "text": [
            "Extracción completada.\n"
          ]
        }
      ]
    },
    {
      "cell_type": "code",
      "source": [
        "# Carga de datos del archivo.zip\n",
        "input_dir = '/content/Imagenes_ZIP4/processed512'\n",
        "image_files = [f for f in os.listdir(input_dir) if f.endswith('.png')]"
      ],
      "metadata": {
        "id": "csY3VPEq_lQq"
      },
      "id": "csY3VPEq_lQq",
      "execution_count": 15,
      "outputs": []
    },
    {
      "cell_type": "markdown",
      "id": "28db8b8d",
      "metadata": {
        "id": "28db8b8d"
      },
      "source": [
        "## 2. Transformar imagen\n",
        "Recuerda que la tarea es lograr el procesamiento más rápido posible.\n",
        "Para lograr esto, realiza las operaciones que consideres necesarias sobre la imagen original para el posterior trabajo de Matching con las plantillas dadas. Crees que trabajar en el dominio de fourier o wavelet ayudaría en las etapas posteriores?"
      ]
    },
    {
      "cell_type": "code",
      "source": [
        "# Clasificar las imágenes\n",
        "classified_images = {\"cross\": [], \"box\": [], \"circ\": []}\n",
        "template_labels = ['box', 'circ', 'cross']\n",
        "\n",
        "# Resultados de la clasificación\n",
        "results = []"
      ],
      "metadata": {
        "id": "BBdVbznbf8Nb"
      },
      "id": "BBdVbznbf8Nb",
      "execution_count": 17,
      "outputs": []
    },
    {
      "cell_type": "markdown",
      "id": "c64b67c8",
      "metadata": {
        "id": "c64b67c8"
      },
      "source": [
        "## 3. Operaciones\n",
        "Para extraer las caracteristicas, debes realizar las operaciones de segmentación, normalización o convolución como creas necesarias.\n",
        "El resultado de tus operaciones vas a usarlo para el proceso de matching.\n"
      ]
    },
    {
      "cell_type": "code",
      "source": [
        "# Funcion SQDIFF\n",
        "def test(img, template):\n",
        "    result = cv2.matchTemplate(img, template, cv2.TM_SQDIFF)\n",
        "    return result"
      ],
      "metadata": {
        "id": "OkkjUzFxgBe3"
      },
      "id": "OkkjUzFxgBe3",
      "execution_count": 18,
      "outputs": []
    },
    {
      "cell_type": "markdown",
      "id": "55e692dd",
      "metadata": {
        "id": "55e692dd"
      },
      "source": [
        "## 4. Matching\n",
        "El proceso de matching debe considerar que vas a usar las imagenes de referencia para calcular la correlación\n",
        "\n",
        "![image.png](attachment:6850d57c-7e6f-4acf-ac3b-d9a8feb071cb.png)\n",
        "\n",
        "Este proceso es similar a un windowing, donde la ventana es la imagen de referencia.\n",
        "Como verás es un proceso iterativo, dispendioso, pero en el que puedes poner tu creatividad a funcionar para lograrlo de forma eficiente.\n",
        "\n",
        "#### _TIP: realiza el proceso un batch pequeño de imagenes, o solo sobre un par de ellas, hasta que estés satisfecho con el resultado. Una vez esté listo, ESCALA el procedimiento para operar todas la imagenes lo más rápido posible.!_"
      ]
    },
    {
      "cell_type": "markdown",
      "source": [
        "Primero se toma una sola imagen para hacer el matching"
      ],
      "metadata": {
        "id": "wiajhcrn8-ot"
      },
      "id": "wiajhcrn8-ot"
    },
    {
      "cell_type": "code",
      "source": [
        "ruta_img = '/content/Imagenes_ZIP4/processed512/box_01_freq_reflect_09a2f2c2-ad7f-11ee-bb2a-047c16a08772_0-0_80-90.png'\n",
        "img = cv2.imread(ruta_img)\n",
        "img_gris = cv2.cvtColor(img, cv2.COLOR_BGR2GRAY)\n",
        "plt.imshow(img_gris, cmap='gray')\n",
        "plt.show()\n",
        "\n",
        "# Aplicando template Matching\n",
        "res = cv2.matchTemplate(img_gris,template_box_gris,cv2.TM_SQDIFF)\n",
        "res2 = cv2.matchTemplate(img_gris,template_circ_gris,cv2.TM_SQDIFF)\n",
        "res3 = cv2.matchTemplate(img_gris,template_cross_gris,cv2.TM_SQDIFF)\n",
        "# minimos y maximos valores\n",
        "min_val, max_val, min_loc, max_loc = cv2.minMaxLoc(res)\n",
        "min_val2, max_val2, min_loc2, max_loc2 = cv2.minMaxLoc(res2)\n",
        "min_val3, max_val3, min_loc3, max_loc3 = cv2.minMaxLoc(res3)\n",
        "\n",
        "# Determinando cual template tiene el valor mas alto\n",
        "max_values = [max_val, max_val2, max_val3]\n",
        "templates_labels = ['box', 'circ', 'cross']\n",
        "best_match_index = np.argmax(max_values)\n",
        "best_match_label = templates_labels[best_match_index]\n",
        "\n",
        "print(f\"La imagen se parece más al template: {best_match_label}\")\n",
        "\n",
        "# Visualización de los resultados\n",
        "top_left = [max_loc, max_loc2, max_loc3][best_match_index]\n",
        "bottom_right = [\n",
        "    (top_left[0] + w, top_left[1] + h),\n",
        "    (top_left[0] + t, top_left[1] + u),\n",
        "    (top_left[0] + v, top_left[1] + z)\n",
        "][best_match_index]\n",
        "\n",
        "cv2.rectangle(img, top_left, bottom_right, 255, 2)\n",
        "\n",
        "plt.subplot(121), plt.imshow([res, res2, res3][best_match_index], cmap='gray')\n",
        "plt.title('Matching Result'), plt.xticks([]), plt.yticks([])\n",
        "plt.subplot(122), plt.imshow(img, cmap='gray')\n",
        "plt.title('Detected Point'), plt.xticks([]), plt.yticks([])\n",
        "plt.show()"
      ],
      "metadata": {
        "colab": {
          "base_uri": "https://localhost:8080/",
          "height": 739
        },
        "id": "hUaJBsNa8tav",
        "outputId": "35073be1-80d4-4340-9339-facfbf8a8c4a"
      },
      "id": "hUaJBsNa8tav",
      "execution_count": 24,
      "outputs": [
        {
          "output_type": "display_data",
          "data": {
            "text/plain": [
              "<Figure size 640x480 with 1 Axes>"
            ],
            "image/png": "[encoded data removed]"
          },
          "metadata": {}
        },
        {
          "output_type": "stream",
          "name": "stdout",
          "text": [
            "La imagen se parece más al template: box\n"
          ]
        },
        {
          "output_type": "display_data",
          "data": {
            "text/plain": [
              "<Figure size 640x480 with 2 Axes>"
            ],
            "image/png": "[encoded data removed]"
          },
          "metadata": {}
        }
      ]
    },
    {
      "cell_type": "markdown",
      "source": [
        "Ahora se escala lo anterior y se hace iterativo para que se lean todos las imagenes del archivo .zip"
      ],
      "metadata": {
        "id": "u0XSxfCe9Erl"
      },
      "id": "u0XSxfCe9Erl"
    },
    {
      "cell_type": "code",
      "execution_count": 19,
      "id": "8e7dfee1",
      "metadata": {
        "id": "8e7dfee1",
        "colab": {
          "base_uri": "https://localhost:8080/"
        },
        "outputId": "8c77a5c4-7270-47d0-d32f-983b39d909aa"
      },
      "outputs": [
        {
          "output_type": "stream",
          "name": "stdout",
          "text": [
            "matching ejecutado\n"
          ]
        }
      ],
      "source": [
        "start = timer()\n",
        "# Procesar cada imagen en el directorio\n",
        "for image_file in image_files:\n",
        "    # Leer la imagen\n",
        "    img_path = os.path.join(input_dir, image_file)\n",
        "    img_gris = cv2.imread(img_path, cv2.IMREAD_GRAYSCALE)\n",
        "\n",
        "    # Calcular SQDIFF para cada template\n",
        "    ncc_box = test(img_gris, template_box_gris)\n",
        "    ncc_circ = test(img_gris, template_circ_gris)\n",
        "    ncc_cross = test(img_gris, template_cross_gris)\n",
        "\n",
        "    # Obtener los valores máximos\n",
        "    _, max_val, _, _ = cv2.minMaxLoc(ncc_box)\n",
        "    _, max_val2, _, _ = cv2.minMaxLoc(ncc_circ)\n",
        "    _, max_val3, _, _ = cv2.minMaxLoc(ncc_cross)\n",
        "\n",
        "    # Determinar la mejor coincidencia\n",
        "    max_values = [max_val, max_val2, max_val3]\n",
        "    best_match_index = np.argmax(max_values)\n",
        "    best_match_label = template_labels[best_match_index]\n",
        "\n",
        "    # Clasificar la imagen\n",
        "    classified_images[best_match_label].append(image_file)\n",
        "    results.append((image_file, best_match_label))\n",
        "\n",
        "    #print(f\"La imagen {image_file} se parece más al template: {best_match_label}\")\n",
        "\n",
        "# Calcular el error de clasificación\n",
        "true_labels = [f.split('_')[0] for f in image_files]\n",
        "pred_labels = [result[1] for result in results]\n",
        "\n",
        "conf_matrix = confusion_matrix(true_labels, pred_labels, labels=template_labels)\n",
        "accuracy = accuracy_score(true_labels, pred_labels)\n",
        "error_rate = 1 - accuracy\n",
        "end = timer()\n",
        "print('matching ejecutado')"
      ]
    },
    {
      "cell_type": "markdown",
      "id": "550b44f5",
      "metadata": {
        "tags": [],
        "id": "550b44f5"
      },
      "source": [
        "# 5. Clasificación\n",
        "De cada operación realizada de matching, obtendrás valores para inferir si la imagen bajo estudio corresponde con alguna de las 3 categorías: cross, box, circle.\n",
        "\n",
        "Debes almacenar cada resultado obtenido para cada imagen, hallar el error de clasificación y generar un informe del error general al clasificar todas las imagenes."
      ]
    },
    {
      "cell_type": "markdown",
      "id": "50606ff2-b6ab-4b75-9292-ca6dfd1f2cf3",
      "metadata": {
        "tags": [],
        "id": "50606ff2-b6ab-4b75-9292-ca6dfd1f2cf3"
      },
      "source": [
        "Presenta aquí el resultado de clasificación numérico, así como  dos ejemplos verdaderos y dos ejemplos falsos de imagenes clasificadas.\n"
      ]
    },
    {
      "cell_type": "code",
      "execution_count": 20,
      "id": "13920e66-4b02-4fad-b711-78fe6249c5f8",
      "metadata": {
        "id": "13920e66-4b02-4fad-b711-78fe6249c5f8",
        "colab": {
          "base_uri": "https://localhost:8080/",
          "height": 1000
        },
        "outputId": "c95ee097-0c7b-4350-9d12-7aae214fd841"
      },
      "outputs": [
        {
          "output_type": "stream",
          "name": "stdout",
          "text": [
            "\n",
            "Ejemplos Clasificados Correctamente:\n",
            "Imagen: cross_01_freq_reflect_e9503ad7-c681-11ee-809f-047c16a08772_0-477_80-90.png, Clasificación: cross\n",
            "Imagen: circ_01_freq_reflect_56dee422-b317-11ee-bb58-047c16a08772_0-1287_80-90.png, Clasificación: circ\n",
            "\n",
            "Ejemplos Clasificados Incorrectamente:\n",
            "Imagen: cross_01_freq_reflect_8079ceb8-e14d-11ee-9a7b-047c16a08772_0-140_80-90.png, Clasificación: circ\n",
            "Imagen: cross_01_freq_reflect_3be7fd33-bd16-11ee-be43-047c16a08772_0-841_80-90.png, Clasificación: box\n",
            "\n",
            "Imágenes Clasificadas Correctamente:\n"
          ]
        },
        {
          "output_type": "display_data",
          "data": {
            "text/plain": [
              "<Figure size 640x480 with 1 Axes>"
            ],
            "image/png": "[encoded data removed]"
          },
          "metadata": {}
        },
        {
          "output_type": "display_data",
          "data": {
            "text/plain": [
              "<Figure size 640x480 with 1 Axes>"
            ],
            "image/png": "[encoded data removed]"
          },
          "metadata": {}
        },
        {
          "output_type": "stream",
          "name": "stdout",
          "text": [
            "\n",
            "Imágenes Clasificadas Incorrectamente:\n"
          ]
        },
        {
          "output_type": "display_data",
          "data": {
            "text/plain": [
              "<Figure size 640x480 with 1 Axes>"
            ],
            "image/png": "[encoded data removed]"
          },
          "metadata": {}
        },
        {
          "output_type": "display_data",
          "data": {
            "text/plain": [
              "<Figure size 640x480 with 1 Axes>"
            ],
            "image/png": "[encoded data removed]"
          },
          "metadata": {}
        }
      ],
      "source": [
        "# Mostrar ejemplos de imágenes clasificadas correctamente e incorrectamente\n",
        "correct_examples = [result for result in results if result[0].split('_')[0] == result[1]]\n",
        "incorrect_examples = [result for result in results if result[0].split('_')[0] != result[1]]\n",
        "\n",
        "print(\"\\nEjemplos Clasificados Correctamente:\")\n",
        "for example in correct_examples[:2]:\n",
        "    print(f\"Imagen: {example[0]}, Clasificación: {example[1]}\")\n",
        "\n",
        "print(\"\\nEjemplos Clasificados Incorrectamente:\")\n",
        "for example in incorrect_examples[:2]:\n",
        "    print(f\"Imagen: {example[0]}, Clasificación: {example[1]}\")\n",
        "\n",
        "# Mostrar algunas imágenes clasificadas correctamente e incorrectamente\n",
        "def display_image(image_file, label, title):\n",
        "    img_path = os.path.join(input_dir, image_file)\n",
        "    img = cv2.imread(img_path, cv2.IMREAD_GRAYSCALE)\n",
        "    plt.imshow(img, cmap='gray')\n",
        "    plt.title(f'{title} - {label}')\n",
        "    plt.axis('off')\n",
        "    plt.show()\n",
        "\n",
        "print(\"\\nImágenes Clasificadas Correctamente:\")\n",
        "for example in correct_examples[:2]:\n",
        "    display_image(example[0], example[1], 'Correcto')\n",
        "\n",
        "print(\"\\nImágenes Clasificadas Incorrectamente:\")\n",
        "for example in incorrect_examples[:2]:\n",
        "    display_image(example[0], example[1], 'Incorrecto')"
      ]
    },
    {
      "cell_type": "code",
      "source": [
        "print(f\"\\nMatriz de Confusión:\\n{conf_matrix}\")\n",
        "print(f\"Precisión: {accuracy:.2f}\")\n",
        "print(f\"Tasa de Error: {error_rate:.2f}\")"
      ],
      "metadata": {
        "colab": {
          "base_uri": "https://localhost:8080/"
        },
        "id": "-PXbtBzaleki",
        "outputId": "013dc6fa-9501-42a0-a244-564a88dabbed"
      },
      "id": "-PXbtBzaleki",
      "execution_count": 21,
      "outputs": [
        {
          "output_type": "stream",
          "name": "stdout",
          "text": [
            "\n",
            "Matriz de Confusión:\n",
            "[[3875  114    0]\n",
            " [   0 4416    0]\n",
            " [ 845   57 5021]]\n",
            "Precisión: 0.93\n",
            "Tasa de Error: 0.07\n"
          ]
        }
      ]
    },
    {
      "cell_type": "markdown",
      "id": "3add46e0-f5e2-4a20-8830-3e795f78d2a0",
      "metadata": {
        "id": "3add46e0-f5e2-4a20-8830-3e795f78d2a0"
      },
      "source": [
        "# 6. Medición\n",
        "Recuerda que debes imprimir el tiempo que tarda tu algoritmo en procesar todas las imagenes en la base de datos. Usa el siguiente fragmento de código, ubicando el inicio y fin donde corresponda.\n",
        "\n",
        "\n",
        "\n"
      ]
    },
    {
      "cell_type": "code",
      "execution_count": 22,
      "id": "bd8e1005-2576-4d78-93eb-3a3124f5394c",
      "metadata": {
        "id": "bd8e1005-2576-4d78-93eb-3a3124f5394c",
        "colab": {
          "base_uri": "https://localhost:8080/"
        },
        "outputId": "d478ac2b-d2f4-46ab-b547-0d91317db004"
      },
      "outputs": [
        {
          "output_type": "stream",
          "name": "stdout",
          "text": [
            "340.40291243499996\n"
          ]
        }
      ],
      "source": [
        "print(end - start)"
      ]
    }
  ],
  "metadata": {
    "kernelspec": {
      "display_name": "Python 3 (ipykernel)",
      "language": "python",
      "name": "python3"
    },
    "language_info": {
      "codemirror_mode": {
        "name": "ipython",
        "version": 3
      },
      "file_extension": ".py",
      "mimetype": "text/x-python",
      "name": "python",
      "nbconvert_exporter": "python",
      "pygments_lexer": "ipython3",
      "version": "3.10.12"
    },
    "colab": {
      "provenance": [],
      "include_colab_link": true
    }
  },
  "nbformat": 4,
  "nbformat_minor": 5
}